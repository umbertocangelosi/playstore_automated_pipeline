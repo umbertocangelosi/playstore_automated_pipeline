{
 "cells": [
  {
   "cell_type": "code",
   "execution_count": 2,
   "id": "1f834733",
   "metadata": {},
   "outputs": [
    {
     "ename": "SyntaxError",
     "evalue": "invalid syntax (1218855584.py, line 4)",
     "output_type": "error",
     "traceback": [
      "\u001b[1;36m  Cell \u001b[1;32mIn[2], line 4\u001b[1;36m\u001b[0m\n\u001b[1;33m    from ../../src/DataIngestor import DataIngestor\u001b[0m\n\u001b[1;37m           ^\u001b[0m\n\u001b[1;31mSyntaxError\u001b[0m\u001b[1;31m:\u001b[0m invalid syntax\n"
     ]
    }
   ],
   "source": [
    "import pandas as pd\n",
    "import matplotlib.pyplot as plt\n",
    "import numpy as np\n",
    "#from DataIngestor import DataIngestor\n",
    "#from ../../src/DataCleaner import DataCleaner\n",
    "import sys \n",
    "sys.path.insert\n",
    "\n",
    "di = DataIngestor()\n",
    "df=di.read_csv(\"googleplaystore\")\n",
    "df=df.drop(10472)\n",
    "dc=DataCleaner()\n",
    "dc.clean_all(df)"
   ]
  },
  {
   "cell_type": "code",
   "execution_count": null,
   "id": "54f61814",
   "metadata": {},
   "outputs": [],
   "source": [
    "#print a table and a plot chart for top 5 download apps with smallest size and highest downloading number"
   ]
  },
  {
   "cell_type": "code",
   "execution_count": null,
   "id": "8dd40352",
   "metadata": {},
   "outputs": [],
   "source": [
    "top5_by_size_and_installs=df.sort_values(by=['Size','Installs'], ascending=[True,False]).head()"
   ]
  },
  {
   "cell_type": "code",
   "execution_count": null,
   "id": "73ca15c7",
   "metadata": {},
   "outputs": [],
   "source": [
    "top5_by_size_and_installs.plot.bar(x='App',y='Installs', color='Blue')"
   ]
  },
  {
   "cell_type": "code",
   "execution_count": null,
   "id": "896685c8",
   "metadata": {},
   "outputs": [],
   "source": [
    "#Print a table and a plot chart for top 5 download apps in each category free and paid (if there is paid)"
   ]
  },
  {
   "cell_type": "code",
   "execution_count": null,
   "id": "5d5994bb",
   "metadata": {},
   "outputs": [],
   "source": [
    "df_free_apps = df[df.Price == 0.0].sort_values(by=['Installs','Rating'],ascending=False)\n",
    "\n",
    "for elemento in df_free_apps['Category'].unique():\n",
    "    print(df_free_apps[df_free_apps.Category == elemento].head(5))\n",
    "    df_free_apps[df_free_apps.Category == elemento].head(5).plot.bar(x='App',y='Installs', color='Blue')"
   ]
  },
  {
   "cell_type": "code",
   "execution_count": null,
   "id": "dd444e2b",
   "metadata": {},
   "outputs": [],
   "source": [
    "df_paid_apps = df[df.Price != 0.0].sort_values(by=['Installs','Rating'],ascending=False)\n",
    "\n",
    "for elemento in df_paid_apps['Category'].unique():\n",
    "    print(df_paid_apps[df_paid_apps.Category == elemento].head(5))\n",
    "    df_paid_apps[df_paid_apps.Category == elemento].head(5).plot.bar(x='App',y='Installs', color='Blue')"
   ]
  },
  {
   "cell_type": "code",
   "execution_count": null,
   "id": "82295c9c",
   "metadata": {},
   "outputs": [],
   "source": [
    "print(df_free_apps.head(5))\n",
    "df_free_apps.head(5).plot.bar(x='App',y='Installs', color='Blue')\n"
   ]
  },
  {
   "cell_type": "code",
   "execution_count": null,
   "id": "ec8ee6c3",
   "metadata": {},
   "outputs": [],
   "source": [
    "print(df_paid_apps.head(5))\n",
    "df_paid_apps.head(5).plot.bar(x='App',y='Installs', color='Blue')"
   ]
  },
  {
   "cell_type": "code",
   "execution_count": null,
   "id": "403d8d71",
   "metadata": {},
   "outputs": [],
   "source": [
    "df['Category'].nunique()"
   ]
  },
  {
   "cell_type": "code",
   "execution_count": null,
   "id": "1d45218b",
   "metadata": {},
   "outputs": [],
   "source": []
  },
  {
   "cell_type": "code",
   "execution_count": null,
   "id": "62cf1050",
   "metadata": {},
   "outputs": [],
   "source": []
  },
  {
   "cell_type": "code",
   "execution_count": null,
   "id": "8e96169c",
   "metadata": {},
   "outputs": [],
   "source": []
  }
 ],
 "metadata": {
  "kernelspec": {
   "display_name": "Python 3 (ipykernel)",
   "language": "python",
   "name": "python3"
  },
  "language_info": {
   "codemirror_mode": {
    "name": "ipython",
    "version": 3
   },
   "file_extension": ".py",
   "mimetype": "text/x-python",
   "name": "python",
   "nbconvert_exporter": "python",
   "pygments_lexer": "ipython3",
   "version": "3.11.1"
  }
 },
 "nbformat": 4,
 "nbformat_minor": 5
}
